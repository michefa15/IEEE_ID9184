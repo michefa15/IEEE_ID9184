{
  "nbformat": 4,
  "nbformat_minor": 0,
  "metadata": {
    "colab": {
      "provenance": [],
      "collapsed_sections": [
        "NXEa4cr-__Wi"
      ]
    },
    "kernelspec": {
      "name": "python3",
      "display_name": "Python 3"
    },
    "language_info": {
      "name": "python"
    }
  },
  "cells": [
    {
      "cell_type": "code",
      "source": [
        "import pandas as pd\n",
        "import datetime\n",
        "from datetime import datetime\n",
        "\n",
        "from google.colab import files"
      ],
      "metadata": {
        "id": "UQly2WFm6jHe"
      },
      "execution_count": null,
      "outputs": []
    },
    {
      "cell_type": "code",
      "source": [
        "!pip list -v | grep dateparser"
      ],
      "metadata": {
        "id": "_d5QjIOSNF2n"
      },
      "execution_count": null,
      "outputs": []
    },
    {
      "cell_type": "code",
      "source": [
        "!pip install -U --no-deps \"dateparser>=1.0.0\""
      ],
      "metadata": {
        "id": "gcpcRJCjLwFi",
        "colab": {
          "base_uri": "https://localhost:8080/"
        },
        "outputId": "b0026a61-664e-4c41-e9a6-93412a5f408e"
      },
      "execution_count": null,
      "outputs": [
        {
          "output_type": "stream",
          "name": "stdout",
          "text": [
            "Looking in indexes: https://pypi.org/simple, https://us-python.pkg.dev/colab-wheels/public/simple/\n",
            "Collecting dateparser>=1.0.0\n",
            "  Downloading dateparser-1.1.1-py2.py3-none-any.whl (288 kB)\n",
            "\u001b[K     |████████████████████████████████| 288 kB 12.2 MB/s \n",
            "\u001b[?25hInstalling collected packages: dateparser\n",
            "Successfully installed dateparser-1.1.1\n"
          ]
        }
      ]
    },
    {
      "cell_type": "markdown",
      "source": [
        "# Using GoogleNews API"
      ],
      "metadata": {
        "id": "NXEa4cr-__Wi"
      }
    },
    {
      "cell_type": "code",
      "execution_count": null,
      "metadata": {
        "id": "-a_KonV1G1RE"
      },
      "outputs": [],
      "source": [
        "# !pip install GoogleNews\n",
        "# from GoogleNews import GoogleNews\n",
        "# Google News\n",
        "#googlenews = GoogleNews(start='01/01/2021',end='01/01/2022')\n",
        "#googlenews.set_lang('pt')\n",
        "#googlenews.search('petrobras')\n",
        "\n",
        "#result = googlenews.result()\n",
        "#df_gnews = pd.DataFrame(result)\n",
        "\n",
        "#for i in range(2, 20):\n",
        "#  googlenews.get_page(i)\n",
        "#  result = googlenews.result()\n",
        "#  df_gnews = df_gnews.append(pd.DataFrame(result), ignore_index=True)\n",
        "\n",
        "#  df_gnews.drop('media',inplace=True, axis=1)\n",
        "#  df_gnews.drop('datetime',inplace=True, axis=1)\n",
        "#  df_gnews.drop('desc',inplace=True, axis=1)\n",
        "#  df_gnews.drop('link',inplace=True, axis=1)\n",
        "#  df_gnews.drop('img',inplace=True, axis=1)\n",
        "\n",
        "# df_gnews = df_gnews[['date', 'title']]\n",
        "\n",
        "# len(df_gnews.index)\n",
        "# df_gnews.head()"
      ]
    },
    {
      "cell_type": "markdown",
      "source": [
        "# Using PyGoogleNews"
      ],
      "metadata": {
        "id": "BW3vyfop_7OB"
      }
    },
    {
      "cell_type": "code",
      "source": [
        "!pip install pygooglenews --upgrade"
      ],
      "metadata": {
        "id": "ZYbFNeUk4_t-",
        "colab": {
          "base_uri": "https://localhost:8080/"
        },
        "outputId": "dce13f52-8a21-4ed7-f4f6-456614d05be0"
      },
      "execution_count": null,
      "outputs": [
        {
          "output_type": "stream",
          "name": "stdout",
          "text": [
            "Looking in indexes: https://pypi.org/simple, https://us-python.pkg.dev/colab-wheels/public/simple/\n",
            "Collecting pygooglenews\n",
            "  Downloading pygooglenews-0.1.2-py3-none-any.whl (10 kB)\n",
            "Collecting feedparser<6.0.0,>=5.2.1\n",
            "  Downloading feedparser-5.2.1.zip (1.2 MB)\n",
            "\u001b[K     |████████████████████████████████| 1.2 MB 14.0 MB/s \n",
            "\u001b[?25hCollecting requests<3.0.0,>=2.24.0\n",
            "  Downloading requests-2.28.1-py3-none-any.whl (62 kB)\n",
            "\u001b[K     |████████████████████████████████| 62 kB 1.3 MB/s \n",
            "\u001b[?25hCollecting beautifulsoup4<5.0.0,>=4.9.1\n",
            "  Downloading beautifulsoup4-4.11.1-py3-none-any.whl (128 kB)\n",
            "\u001b[K     |████████████████████████████████| 128 kB 71.1 MB/s \n",
            "\u001b[?25hCollecting dateparser<0.8.0,>=0.7.6\n",
            "  Downloading dateparser-0.7.6-py2.py3-none-any.whl (362 kB)\n",
            "\u001b[K     |████████████████████████████████| 362 kB 63.7 MB/s \n",
            "\u001b[?25hCollecting soupsieve>1.2\n",
            "  Downloading soupsieve-2.3.2.post1-py3-none-any.whl (37 kB)\n",
            "Requirement already satisfied: regex!=2019.02.19 in /usr/local/lib/python3.7/dist-packages (from dateparser<0.8.0,>=0.7.6->pygooglenews) (2022.6.2)\n",
            "Requirement already satisfied: python-dateutil in /usr/local/lib/python3.7/dist-packages (from dateparser<0.8.0,>=0.7.6->pygooglenews) (2.8.2)\n",
            "Requirement already satisfied: pytz in /usr/local/lib/python3.7/dist-packages (from dateparser<0.8.0,>=0.7.6->pygooglenews) (2022.2.1)\n",
            "Requirement already satisfied: tzlocal in /usr/local/lib/python3.7/dist-packages (from dateparser<0.8.0,>=0.7.6->pygooglenews) (1.5.1)\n",
            "Requirement already satisfied: idna<4,>=2.5 in /usr/local/lib/python3.7/dist-packages (from requests<3.0.0,>=2.24.0->pygooglenews) (2.10)\n",
            "Requirement already satisfied: urllib3<1.27,>=1.21.1 in /usr/local/lib/python3.7/dist-packages (from requests<3.0.0,>=2.24.0->pygooglenews) (1.24.3)\n",
            "Requirement already satisfied: certifi>=2017.4.17 in /usr/local/lib/python3.7/dist-packages (from requests<3.0.0,>=2.24.0->pygooglenews) (2022.6.15)\n",
            "Requirement already satisfied: charset-normalizer<3,>=2 in /usr/local/lib/python3.7/dist-packages (from requests<3.0.0,>=2.24.0->pygooglenews) (2.1.1)\n",
            "Requirement already satisfied: six>=1.5 in /usr/local/lib/python3.7/dist-packages (from python-dateutil->dateparser<0.8.0,>=0.7.6->pygooglenews) (1.15.0)\n",
            "Building wheels for collected packages: feedparser\n",
            "  Building wheel for feedparser (setup.py) ... \u001b[?25l\u001b[?25hdone\n",
            "  Created wheel for feedparser: filename=feedparser-5.2.1-py3-none-any.whl size=44952 sha256=c1e8bfa4eefdf2c6bd3c58543ef7fa57d53cb91b1a6c3dae2233181fffda2e46\n",
            "  Stored in directory: /root/.cache/pip/wheels/29/bf/46/b4a597d435d3aee6c2fa583824897336d65abf13ebe3405b70\n",
            "Successfully built feedparser\n",
            "Installing collected packages: soupsieve, requests, feedparser, dateparser, beautifulsoup4, pygooglenews\n",
            "  Attempting uninstall: requests\n",
            "    Found existing installation: requests 2.23.0\n",
            "    Uninstalling requests-2.23.0:\n",
            "      Successfully uninstalled requests-2.23.0\n",
            "  Attempting uninstall: dateparser\n",
            "    Found existing installation: dateparser 1.1.1\n",
            "    Uninstalling dateparser-1.1.1:\n",
            "      Successfully uninstalled dateparser-1.1.1\n",
            "  Attempting uninstall: beautifulsoup4\n",
            "    Found existing installation: beautifulsoup4 4.6.3\n",
            "    Uninstalling beautifulsoup4-4.6.3:\n",
            "      Successfully uninstalled beautifulsoup4-4.6.3\n",
            "Successfully installed beautifulsoup4-4.11.1 dateparser-0.7.6 feedparser-5.2.1 pygooglenews-0.1.2 requests-2.28.1 soupsieve-2.3.2.post1\n"
          ]
        }
      ]
    },
    {
      "cell_type": "code",
      "source": [
        "!pip uninstall regex -y\n",
        "!pip install regex==2022.3.2"
      ],
      "metadata": {
        "id": "b-ltpkpZQxVk",
        "colab": {
          "base_uri": "https://localhost:8080/"
        },
        "outputId": "dc81d228-18d6-467b-98b7-d0901e3743d4"
      },
      "execution_count": null,
      "outputs": [
        {
          "output_type": "stream",
          "name": "stdout",
          "text": [
            "Found existing installation: regex 2022.6.2\n",
            "Uninstalling regex-2022.6.2:\n",
            "  Successfully uninstalled regex-2022.6.2\n",
            "Looking in indexes: https://pypi.org/simple, https://us-python.pkg.dev/colab-wheels/public/simple/\n",
            "Collecting regex==2022.3.2\n",
            "  Downloading regex-2022.3.2-cp37-cp37m-manylinux_2_17_x86_64.manylinux2014_x86_64.whl (749 kB)\n",
            "\u001b[K     |████████████████████████████████| 749 kB 13.1 MB/s \n",
            "\u001b[?25hInstalling collected packages: regex\n",
            "Successfully installed regex-2022.3.2\n"
          ]
        }
      ]
    },
    {
      "cell_type": "code",
      "source": [
        "# PyGoogleNews\n",
        "\n",
        "from pygooglenews import GoogleNews\n",
        "\n",
        "# query = string; date_start and date_end = \"2020-01-30\"\n",
        "def get_googlenews(savename, query,date_start, date_end):\n",
        "  gn = GoogleNews(lang='pt')\n",
        "\n",
        "  #gn_search = gn.search(query, from_=date_start, to_=date_end)\n",
        "\n",
        "  _news = []\n",
        "\n",
        "  datelist = pd.date_range(start=date_start, end=date_end, freq='1M').to_list()\n",
        "\n",
        "  dto = datetime.strptime(date_end, '%Y-%m-%d')\n",
        "  datelist.append(dto)\n",
        "\n",
        "  prevdate = date_start\n",
        "\n",
        "  # begin for\n",
        "  for date_item in datelist:\n",
        "    curdate = str(date_item.date())\n",
        "    gn_search = gn.search(query, from_=prevdate, to_=curdate)\n",
        "\n",
        "    gb_entries = gn_search['entries']\n",
        "\n",
        "    # begin for\n",
        "    for item in gb_entries:\n",
        "      _date = str(item.published_parsed.tm_year)+\"-\"+str(item.published_parsed.tm_mon).zfill(2)+\"-\"+str(item.published_parsed.tm_mday).zfill(2)\n",
        "      _new = {\n",
        "          'date':_date,\n",
        "          'text':item.title\n",
        "      }\n",
        "      _news.append(_new)\n",
        "    # end for\n",
        "    #\n",
        "    #\n",
        "    prevdate = curdate\n",
        "  # end for\n",
        "  df_gn = pd.DataFrame(_news)\n",
        "  df_gn = df_gn.sort_values(by=['date'])\n",
        "\n",
        "  ffname = \"raw_gn_\"+savename+\"_\"+date_start+\"_\"+date_end+\".csv\"\n",
        "\n",
        "  df_gn.to_csv(ffname, sep=',', index=False)\n",
        "\n",
        "  files.download(ffname)\n",
        "\n",
        "  return df_gn"
      ],
      "metadata": {
        "id": "hs-ktnO666uv"
      },
      "execution_count": null,
      "outputs": []
    },
    {
      "cell_type": "code",
      "source": [
        "start_d = '2008-01-01'\n",
        "end_d = '2022-09-20'\n",
        "\n",
        "#get_googlenews('PETR4', 'petrobras OR PETR4', start_d, end_d)\n",
        "#get_googlenews('ABEV3', 'ambev OR ABEV3', start_d, end_d)\n",
        "#get_googlenews('BBDC4', 'bradesco OR BBDC4', start_d, end_d)\n",
        "#get_googlenews('ITUB4', 'itaú OR ITUB4', start_d, end_d)\n",
        "get_googlenews('VALE3', '\"Vale do Rio Doce\" OR \"VALE3\" OR \"mineração\"', start_d, end_d)\n",
        "\n",
        "#get_googlenews('VALE3', 'VALE3',      start_d, end_d)\n",
        "#get_googlenews('vale', '\"Vale S.A\" OR \"Vale empresa\" OR \"empresa Vale\" OR \"VALE3\" OR \"Vale do brasil\"',      start_d, end_d)\n",
        "\n",
        "#get_googlenews('ambev', 'Ambev',     start_d, end_d)\n",
        "#get_googlenews('itau', 'itau',      start_d, end_d)\n",
        "#get_googlenews('bradesco', 'Bradesco',  start_d, end_d)"
      ],
      "metadata": {
        "id": "0IWguaA_MntU",
        "colab": {
          "base_uri": "https://localhost:8080/",
          "height": 424
        },
        "outputId": "4b7c9df4-939b-431a-9b51-d9c3c4073858"
      },
      "execution_count": null,
      "outputs": [
        {
          "output_type": "display_data",
          "data": {
            "text/plain": [
              "<IPython.core.display.Javascript object>"
            ],
            "application/javascript": [
              "\n",
              "    async function download(id, filename, size) {\n",
              "      if (!google.colab.kernel.accessAllowed) {\n",
              "        return;\n",
              "      }\n",
              "      const div = document.createElement('div');\n",
              "      const label = document.createElement('label');\n",
              "      label.textContent = `Downloading \"${filename}\": `;\n",
              "      div.appendChild(label);\n",
              "      const progress = document.createElement('progress');\n",
              "      progress.max = size;\n",
              "      div.appendChild(progress);\n",
              "      document.body.appendChild(div);\n",
              "\n",
              "      const buffers = [];\n",
              "      let downloaded = 0;\n",
              "\n",
              "      const channel = await google.colab.kernel.comms.open(id);\n",
              "      // Send a message to notify the kernel that we're ready.\n",
              "      channel.send({})\n",
              "\n",
              "      for await (const message of channel.messages) {\n",
              "        // Send a message to notify the kernel that we're ready.\n",
              "        channel.send({})\n",
              "        if (message.buffers) {\n",
              "          for (const buffer of message.buffers) {\n",
              "            buffers.push(buffer);\n",
              "            downloaded += buffer.byteLength;\n",
              "            progress.value = downloaded;\n",
              "          }\n",
              "        }\n",
              "      }\n",
              "      const blob = new Blob(buffers, {type: 'application/binary'});\n",
              "      const a = document.createElement('a');\n",
              "      a.href = window.URL.createObjectURL(blob);\n",
              "      a.download = filename;\n",
              "      div.appendChild(a);\n",
              "      a.click();\n",
              "      div.remove();\n",
              "    }\n",
              "  "
            ]
          },
          "metadata": {}
        },
        {
          "output_type": "display_data",
          "data": {
            "text/plain": [
              "<IPython.core.display.Javascript object>"
            ],
            "application/javascript": [
              "download(\"download_7c57d4d9-8215-40b6-b0b4-b1e4934efe39\", \"raw_gn_VALE3_2008-01-01_2022-09-20.csv\", 508660)"
            ]
          },
          "metadata": {}
        },
        {
          "output_type": "execute_result",
          "data": {
            "text/plain": [
              "            date                                               text\n",
              "0     2008-08-15  G1 > Economia e Negócios - NOTÍCIAS - Soros co...\n",
              "2     2009-05-04  G1 > Economia e Negócios - NOTÍCIAS - MMX reto...\n",
              "1     2009-05-22  G1 > Economia e Negócios - NOTÍCIAS - Conselho...\n",
              "3     2009-11-08  G1 > Economia e Negócios - NOTÍCIAS - Exploraç...\n",
              "4     2010-05-08  ConJur - Exigência de depósito prévio de multa...\n",
              "...          ...                                                ...\n",
              "4707  2022-09-18  Ciro Gomes volta a defender mineração em terra...\n",
              "4655  2022-09-19  Sai Banco do Brasil (BBAS3) e entra Vale (VALE...\n",
              "4673  2022-09-19  Ibovespa avança 2,33%, aos 111,8 mil pontos; V...\n",
              "4658  2022-09-19  Vale (VALE3), Petrobras (PETR4), bancos e educ...\n",
              "4706  2022-09-20  Intervenção urbana pede voto consciente em rel...\n",
              "\n",
              "[4743 rows x 2 columns]"
            ],
            "text/html": [
              "\n",
              "  <div id=\"df-9b34203d-8400-4b7f-8405-3eb40bc83303\">\n",
              "    <div class=\"colab-df-container\">\n",
              "      <div>\n",
              "<style scoped>\n",
              "    .dataframe tbody tr th:only-of-type {\n",
              "        vertical-align: middle;\n",
              "    }\n",
              "\n",
              "    .dataframe tbody tr th {\n",
              "        vertical-align: top;\n",
              "    }\n",
              "\n",
              "    .dataframe thead th {\n",
              "        text-align: right;\n",
              "    }\n",
              "</style>\n",
              "<table border=\"1\" class=\"dataframe\">\n",
              "  <thead>\n",
              "    <tr style=\"text-align: right;\">\n",
              "      <th></th>\n",
              "      <th>date</th>\n",
              "      <th>text</th>\n",
              "    </tr>\n",
              "  </thead>\n",
              "  <tbody>\n",
              "    <tr>\n",
              "      <th>0</th>\n",
              "      <td>2008-08-15</td>\n",
              "      <td>G1 &gt; Economia e Negócios - NOTÍCIAS - Soros co...</td>\n",
              "    </tr>\n",
              "    <tr>\n",
              "      <th>2</th>\n",
              "      <td>2009-05-04</td>\n",
              "      <td>G1 &gt; Economia e Negócios - NOTÍCIAS - MMX reto...</td>\n",
              "    </tr>\n",
              "    <tr>\n",
              "      <th>1</th>\n",
              "      <td>2009-05-22</td>\n",
              "      <td>G1 &gt; Economia e Negócios - NOTÍCIAS - Conselho...</td>\n",
              "    </tr>\n",
              "    <tr>\n",
              "      <th>3</th>\n",
              "      <td>2009-11-08</td>\n",
              "      <td>G1 &gt; Economia e Negócios - NOTÍCIAS - Exploraç...</td>\n",
              "    </tr>\n",
              "    <tr>\n",
              "      <th>4</th>\n",
              "      <td>2010-05-08</td>\n",
              "      <td>ConJur - Exigência de depósito prévio de multa...</td>\n",
              "    </tr>\n",
              "    <tr>\n",
              "      <th>...</th>\n",
              "      <td>...</td>\n",
              "      <td>...</td>\n",
              "    </tr>\n",
              "    <tr>\n",
              "      <th>4707</th>\n",
              "      <td>2022-09-18</td>\n",
              "      <td>Ciro Gomes volta a defender mineração em terra...</td>\n",
              "    </tr>\n",
              "    <tr>\n",
              "      <th>4655</th>\n",
              "      <td>2022-09-19</td>\n",
              "      <td>Sai Banco do Brasil (BBAS3) e entra Vale (VALE...</td>\n",
              "    </tr>\n",
              "    <tr>\n",
              "      <th>4673</th>\n",
              "      <td>2022-09-19</td>\n",
              "      <td>Ibovespa avança 2,33%, aos 111,8 mil pontos; V...</td>\n",
              "    </tr>\n",
              "    <tr>\n",
              "      <th>4658</th>\n",
              "      <td>2022-09-19</td>\n",
              "      <td>Vale (VALE3), Petrobras (PETR4), bancos e educ...</td>\n",
              "    </tr>\n",
              "    <tr>\n",
              "      <th>4706</th>\n",
              "      <td>2022-09-20</td>\n",
              "      <td>Intervenção urbana pede voto consciente em rel...</td>\n",
              "    </tr>\n",
              "  </tbody>\n",
              "</table>\n",
              "<p>4743 rows × 2 columns</p>\n",
              "</div>\n",
              "      <button class=\"colab-df-convert\" onclick=\"convertToInteractive('df-9b34203d-8400-4b7f-8405-3eb40bc83303')\"\n",
              "              title=\"Convert this dataframe to an interactive table.\"\n",
              "              style=\"display:none;\">\n",
              "        \n",
              "  <svg xmlns=\"http://www.w3.org/2000/svg\" height=\"24px\"viewBox=\"0 0 24 24\"\n",
              "       width=\"24px\">\n",
              "    <path d=\"M0 0h24v24H0V0z\" fill=\"none\"/>\n",
              "    <path d=\"M18.56 5.44l.94 2.06.94-2.06 2.06-.94-2.06-.94-.94-2.06-.94 2.06-2.06.94zm-11 1L8.5 8.5l.94-2.06 2.06-.94-2.06-.94L8.5 2.5l-.94 2.06-2.06.94zm10 10l.94 2.06.94-2.06 2.06-.94-2.06-.94-.94-2.06-.94 2.06-2.06.94z\"/><path d=\"M17.41 7.96l-1.37-1.37c-.4-.4-.92-.59-1.43-.59-.52 0-1.04.2-1.43.59L10.3 9.45l-7.72 7.72c-.78.78-.78 2.05 0 2.83L4 21.41c.39.39.9.59 1.41.59.51 0 1.02-.2 1.41-.59l7.78-7.78 2.81-2.81c.8-.78.8-2.07 0-2.86zM5.41 20L4 18.59l7.72-7.72 1.47 1.35L5.41 20z\"/>\n",
              "  </svg>\n",
              "      </button>\n",
              "      \n",
              "  <style>\n",
              "    .colab-df-container {\n",
              "      display:flex;\n",
              "      flex-wrap:wrap;\n",
              "      gap: 12px;\n",
              "    }\n",
              "\n",
              "    .colab-df-convert {\n",
              "      background-color: #E8F0FE;\n",
              "      border: none;\n",
              "      border-radius: 50%;\n",
              "      cursor: pointer;\n",
              "      display: none;\n",
              "      fill: #1967D2;\n",
              "      height: 32px;\n",
              "      padding: 0 0 0 0;\n",
              "      width: 32px;\n",
              "    }\n",
              "\n",
              "    .colab-df-convert:hover {\n",
              "      background-color: #E2EBFA;\n",
              "      box-shadow: 0px 1px 2px rgba(60, 64, 67, 0.3), 0px 1px 3px 1px rgba(60, 64, 67, 0.15);\n",
              "      fill: #174EA6;\n",
              "    }\n",
              "\n",
              "    [theme=dark] .colab-df-convert {\n",
              "      background-color: #3B4455;\n",
              "      fill: #D2E3FC;\n",
              "    }\n",
              "\n",
              "    [theme=dark] .colab-df-convert:hover {\n",
              "      background-color: #434B5C;\n",
              "      box-shadow: 0px 1px 3px 1px rgba(0, 0, 0, 0.15);\n",
              "      filter: drop-shadow(0px 1px 2px rgba(0, 0, 0, 0.3));\n",
              "      fill: #FFFFFF;\n",
              "    }\n",
              "  </style>\n",
              "\n",
              "      <script>\n",
              "        const buttonEl =\n",
              "          document.querySelector('#df-9b34203d-8400-4b7f-8405-3eb40bc83303 button.colab-df-convert');\n",
              "        buttonEl.style.display =\n",
              "          google.colab.kernel.accessAllowed ? 'block' : 'none';\n",
              "\n",
              "        async function convertToInteractive(key) {\n",
              "          const element = document.querySelector('#df-9b34203d-8400-4b7f-8405-3eb40bc83303');\n",
              "          const dataTable =\n",
              "            await google.colab.kernel.invokeFunction('convertToInteractive',\n",
              "                                                     [key], {});\n",
              "          if (!dataTable) return;\n",
              "\n",
              "          const docLinkHtml = 'Like what you see? Visit the ' +\n",
              "            '<a target=\"_blank\" href=https://colab.research.google.com/notebooks/data_table.ipynb>data table notebook</a>'\n",
              "            + ' to learn more about interactive tables.';\n",
              "          element.innerHTML = '';\n",
              "          dataTable['output_type'] = 'display_data';\n",
              "          await google.colab.output.renderOutput(dataTable, element);\n",
              "          const docLink = document.createElement('div');\n",
              "          docLink.innerHTML = docLinkHtml;\n",
              "          element.appendChild(docLink);\n",
              "        }\n",
              "      </script>\n",
              "    </div>\n",
              "  </div>\n",
              "  "
            ]
          },
          "metadata": {},
          "execution_count": 11
        }
      ]
    },
    {
      "cell_type": "code",
      "source": [
        "len(dfn.index)"
      ],
      "metadata": {
        "id": "yeqhvcM7fNYX"
      },
      "execution_count": null,
      "outputs": []
    },
    {
      "cell_type": "code",
      "source": [
        "dfn2 = dfn.drop_duplicates(subset=[\"title\"], keep=False)"
      ],
      "metadata": {
        "id": "-Mv2_AHZe8Co"
      },
      "execution_count": null,
      "outputs": []
    },
    {
      "cell_type": "code",
      "source": [
        "len(dfn2.index)"
      ],
      "metadata": {
        "id": "yx6IvQ-afRdf"
      },
      "execution_count": null,
      "outputs": []
    }
  ]
}