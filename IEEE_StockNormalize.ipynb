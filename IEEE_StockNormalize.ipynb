{
  "nbformat": 4,
  "nbformat_minor": 0,
  "metadata": {
    "colab": {
      "provenance": []
    },
    "kernelspec": {
      "name": "python3",
      "display_name": "Python 3"
    },
    "language_info": {
      "name": "python"
    }
  },
  "cells": [
    {
      "cell_type": "code",
      "execution_count": null,
      "metadata": {
        "id": "MkAQVyW4VrDg"
      },
      "outputs": [],
      "source": [
        "import pandas as pd\n",
        "import matplotlib.pyplot as plt"
      ]
    },
    {
      "cell_type": "code",
      "source": [
        "def plot_graph(df, column='close'):\n",
        "  plt.figure(figsize=(10,4))\n",
        "\n",
        "  df[column].plot()\n",
        "\n",
        "  plt.title(column)\n",
        "  plt.xlabel('Date')\n",
        "  plt.ylabel(column)"
      ],
      "metadata": {
        "id": "RhzCrH10aKrA"
      },
      "execution_count": null,
      "outputs": []
    },
    {
      "cell_type": "code",
      "source": [
        "def normalize_stock(df,filename='none'):\n",
        "  df_clone = df.copy(deep=True)\n",
        "  cols_to_norm = ['high','low','open','close','volume']\n",
        "  df_clone[cols_to_norm] = df_clone[cols_to_norm].apply(lambda x: (x - x.min()) / (x.max() - x.min()))\n",
        "  if filename != 'none':\n",
        "    df_clone.to_csv('norm_'+filename, sep=',', index=False)\n",
        "  return df_clone"
      ],
      "metadata": {
        "id": "6umdS50VZduc"
      },
      "execution_count": null,
      "outputs": []
    },
    {
      "cell_type": "code",
      "source": [
        "def calc_mms(df, n, columns=['close'], cut_n_first = False, filename='none'):\n",
        "  row_size = len(df.index)\n",
        "  close_mms = df.copy(deep=True)\n",
        "\n",
        "  for col in columns:\n",
        "    mms = df.loc[n, col]\n",
        "    close_mms.loc[n, col] = mms\n",
        "    mult = (2/(n+1))\n",
        "    for i in range(n, row_size):\n",
        "      sum = 0\n",
        "      count = 0\n",
        "      for j in range(i-n, i):\n",
        "        sum += df.loc[j, col]\n",
        "        count += 1\n",
        "      close_mms.loc[j, col] = sum/n\n",
        "\n",
        "  if cut_n_first == True:\n",
        "    close_mms.drop(index=close_mms.index[:n],\n",
        "          axis=0,\n",
        "          inplace=True)\n",
        "\n",
        "  if filename != 'none':\n",
        "    close_mms.to_csv('mms'+str(n)+'_'+filename, sep=',', index=False)\n",
        "  return close_mms\n",
        "\n",
        "def calc_mme(df, n, columns=['close'], cut_n_first = False, filename='none'):\n",
        "  row_size = len(df.index)\n",
        "  close_mme = df.copy(deep=True)\n",
        "\n",
        "  for col in columns:\n",
        "    mme = df.loc[n, col]\n",
        "    close_mme.loc[n, col] = mme\n",
        "    mult = (2/(n+1))\n",
        "\n",
        "    #for i in range(0, n+1):\n",
        "    #  close_mme.loc[i, col] = 0\n",
        "\n",
        "    for i in range(n+1, row_size):\n",
        "      mme = ((df.loc[i, col]-mme)*mult)+mme\n",
        "      close_mme.loc[i, col] = mme\n",
        "\n",
        "  if cut_n_first == True:\n",
        "    close_mme.drop(index=close_mme.index[:n],\n",
        "          axis=0,\n",
        "          inplace=True)\n",
        "\n",
        "  if filename != 'none':\n",
        "    close_mme.to_csv('mme'+str(n)+'_'+filename, sep=',', index=False)\n",
        "\n",
        "  return close_mme\n"
      ],
      "metadata": {
        "id": "cbDAxqM1biej"
      },
      "execution_count": null,
      "outputs": []
    },
    {
      "cell_type": "code",
      "source": [
        "# normalizada\n",
        "# mms\n",
        "# mme\n",
        "# mms normalizada\n",
        "# mme normalizada\n",
        "\n",
        "def stock_valuation(filename):\n",
        "  n = 30\n",
        "  df = pd.read_csv(filename)\n",
        "  normalize_stock(df, filename=filename)\n",
        "  mms = calc_mms(df, 30, ['high','low','open','close','volume'], cut_n_first=True, filename=filename)\n",
        "  mme = calc_mme(df, 30, ['high','low','open','close','volume'], cut_n_first=True, filename=filename)\n",
        "  normalize_stock(mms, filename='mms'+str(n)+'_'+filename)\n",
        "  normalize_stock(mme, filename='mme'+str(n)+'_'+filename)"
      ],
      "metadata": {
        "id": "YqPNpFV9iUne"
      },
      "execution_count": null,
      "outputs": []
    },
    {
      "cell_type": "markdown",
      "source": [
        "# RUNS"
      ],
      "metadata": {
        "id": "1YDCrsYfmB8F"
      }
    },
    {
      "cell_type": "code",
      "source": [
        "stock_valuation('stock_PETR4.SA_2008-01-01_2022-09-20.csv')"
      ],
      "metadata": {
        "id": "dga-6S8kl-Lo"
      },
      "execution_count": null,
      "outputs": []
    },
    {
      "cell_type": "markdown",
      "source": [
        "# TESTS"
      ],
      "metadata": {
        "id": "UTYscdlbl_4C"
      }
    },
    {
      "cell_type": "code",
      "source": [
        "ffnormfiles = [ 'stock_ABEV3.SA_2008-01-01_2022-09-20.csv',\n",
        "                'stock_VALE3.SA_2008-01-01_2022-09-20.csv',\n",
        "                'stock_ITUB4.SA_2008-01-01_2022-09-20.csv',\n",
        "                'stock_BBDC4.SA_2008-01-01_2022-09-20.csv']\n",
        "\n",
        "for normitem in ffnormfiles:\n",
        "  normalize_stock(pd.read_csv(normitem), normitem)"
      ],
      "metadata": {
        "id": "AfFP3cIRatY_"
      },
      "execution_count": null,
      "outputs": []
    },
    {
      "cell_type": "code",
      "source": [
        "dff = pd.read_csv('stock_PETR4.SA_2011-01-01_2022-01-01.csv')\n",
        "#dff = normalize_stock('stock_PETR4.SA_2011-01-01_2022-01-01.csv')\n",
        "#dff = normalize_stock(pd.read_csv('stock_PETR4.SA_2011-01-01_2022-01-01.csv'))\n",
        "#mmss = normalize_stock(calc_mms(dff, 1, ['close']))\n",
        "#mmee = normalize_stock(calc_mme(dff, 1, ['close']))\n",
        "\n",
        "mmss = calc_mms(dff, 30, ['close'], cut_n_first=True)\n",
        "mmee = calc_mme(dff, 30, ['close'], cut_n_first=True)"
      ],
      "metadata": {
        "id": "tRsnchkwdy0g"
      },
      "execution_count": null,
      "outputs": []
    },
    {
      "cell_type": "code",
      "source": [
        "plot_graph(dff, 'close')\n",
        "plot_graph(mmss, 'close')\n",
        "plot_graph(mmee, 'close')"
      ],
      "metadata": {
        "id": "4BYIvdUsmASC"
      },
      "execution_count": null,
      "outputs": []
    }
  ]
}