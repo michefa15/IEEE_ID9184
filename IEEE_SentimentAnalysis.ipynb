{
  "nbformat": 4,
  "nbformat_minor": 0,
  "metadata": {
    "colab": {
      "provenance": [],
      "collapsed_sections": [
        "DaUDnaNaXFu7",
        "FqFujBNGXIqf"
      ]
    },
    "kernelspec": {
      "name": "python3",
      "display_name": "Python 3"
    },
    "language_info": {
      "name": "python"
    }
  },
  "cells": [
    {
      "cell_type": "code",
      "source": [
        "!pip install autocorrect\n",
        "!python -m spacy download pt_core_news_sm"
      ],
      "metadata": {
        "id": "0trftXSvmWaH"
      },
      "execution_count": null,
      "outputs": []
    },
    {
      "cell_type": "markdown",
      "source": [],
      "metadata": {
        "id": "xWrqf-7oJzOX"
      }
    },
    {
      "cell_type": "code",
      "execution_count": null,
      "metadata": {
        "id": "lxdl2Ah_-7Uv"
      },
      "outputs": [],
      "source": [
        "import string\n",
        "import re\n",
        "import pandas as pd\n",
        "import html as html\n",
        "import numpy as np\n",
        "\n",
        "from autocorrect import Speller\n",
        "\n",
        "from textblob import TextBlob\n",
        "\n",
        "from datetime import datetime\n",
        "\n",
        "import nltk\n",
        "from nltk.corpus import stopwords\n",
        "\n",
        "from google.colab import files\n",
        "\n",
        "import spacy\n",
        "nlp = spacy.load('pt_core_news_sm')\n",
        "\n",
        "#spell = Speller(lang='pt')"
      ]
    },
    {
      "cell_type": "markdown",
      "source": [
        "## CLEAR DATA"
      ],
      "metadata": {
        "id": "3Xu5UYezelYm"
      }
    },
    {
      "cell_type": "code",
      "source": [
        "nltk.download('stopwords')\n",
        "stopwords = nltk.corpus.stopwords.words('portuguese')"
      ],
      "metadata": {
        "colab": {
          "base_uri": "https://localhost:8080/"
        },
        "id": "TXpP137inpIQ",
        "outputId": "0a6509b1-eeb8-4e4d-dd4b-4bdff099d6ea"
      },
      "execution_count": null,
      "outputs": [
        {
          "output_type": "stream",
          "name": "stderr",
          "text": [
            "[nltk_data] Downloading package stopwords to /root/nltk_data...\n",
            "[nltk_data]   Unzipping corpora/stopwords.zip.\n"
          ]
        }
      ]
    },
    {
      "cell_type": "code",
      "source": [
        "special_chars = \"áéíóúãõàèìòùçâêîôû\"\n",
        "allow = string.ascii_letters + string.whitespace + special_chars\n",
        "\n",
        "badword_default_old = ['baguete','globo','joão','comics','josé','techtudo',\n",
        "                   'francisco','parque','botânico','luiz']\n",
        "\n",
        "def lines_to_array(filename):\n",
        "  array = []\n",
        "  with open(filename) as curfile:\n",
        "    array = curfile.read().splitlines()\n",
        "  return array\n",
        "\n",
        "badword_default = lines_to_array('/content/drive/MyDrive/DEV/Python/Datasets/TCC/bw_default.txt')\n",
        "\n",
        "def remove_word(word, text):\n",
        "    regular_expression = rf\"\\b{word}\\b\"\n",
        "    return re.sub(regular_expression, \"\", text)\n",
        "\n",
        "def remove_words(text, wordlist):\n",
        "  for word in wordlist:\n",
        "    text = remove_word(word, text)\n",
        "  return text\n",
        "\n",
        "def clear_text(text):\n",
        "  # lower\n",
        "  text_clear = text.lower()\n",
        "\n",
        "  # remove symbols and numbers\n",
        "  text_clear = re.sub('[^%s]' % allow, '', text_clear)\n",
        "\n",
        "  #remove query\n",
        "  text_clear = remove_words(text_clear, ['vale','petrobras','itaú', 'ambev','bradesco'])\n",
        "\n",
        "  # remove stopwords\n",
        "  text_tokens=text_clear.split()\n",
        "  text_list=\"\"\n",
        "  #remove stopwords\n",
        "  for word in text_tokens:\n",
        "      if word not in stopwords:\n",
        "          text_list+=word+\" \"\n",
        "  # lemmatizer\n",
        "  doc = nlp(text_list)\n",
        "\n",
        "  lemma_tokens = \"\"\n",
        "  msize = len(doc)\n",
        "  for i in range(msize):\n",
        "    lemmaword = doc[i].lemma_\n",
        "    if lemmaword[0:4] == \"http\":\n",
        "      continue\n",
        "    lemma_tokens += lemmaword\n",
        "    if i < msize-1:\n",
        "      lemma_tokens+=\" \"\n",
        "\n",
        "  lemma_tokens = lemma_tokens.lower()\n",
        "\n",
        "  lemma_tokens = remove_words(lemma_tokens, badword_default)\n",
        "\n",
        "  lemma_tokens = re.sub(' +', ' ', lemma_tokens)\n",
        "\n",
        "  lemma_tokens = lemma_tokens.strip()\n",
        "\n",
        "  return lemma_tokens"
      ],
      "metadata": {
        "id": "G6lzfse7Llw5"
      },
      "execution_count": null,
      "outputs": []
    },
    {
      "cell_type": "code",
      "source": [
        "\n",
        "def clear_text2(text):\n",
        "\n",
        "  # lower\n",
        "  text_clear = text.lower()\n",
        "  print(text_clear)\n",
        "\n",
        "  # remove symbols and numbers\n",
        "  text_clear = re.sub('[^%s]' % allow, '', text_clear)\n",
        "  print(text_clear)\n",
        "\n",
        "  #remove query\n",
        "  text_clear = remove_words(text_clear, ['vale','petrobras','itaú', 'ambev','bradesco'])\n",
        "  print(text_clear)\n",
        "\n",
        "  # remove stopwords\n",
        "  text_tokens=text_clear.split()\n",
        "  text_list=\"\"\n",
        "  #remove stopwords\n",
        "  for word in text_tokens:\n",
        "      if word not in stopwords:\n",
        "          text_list+=word+\" \"\n",
        "\n",
        "  print(text_list)\n",
        "  # lemmatizer\n",
        "  doc = nlp(text_list)\n",
        "\n",
        "  lemma_tokens = \"\"\n",
        "  msize = len(doc)\n",
        "  for i in range(msize):\n",
        "    lemmaword = doc[i].lemma_\n",
        "    if lemmaword[0:4] == \"http\":\n",
        "      continue\n",
        "    lemma_tokens += lemmaword\n",
        "    if i < msize-1:\n",
        "      lemma_tokens+=\" \"\n",
        "\n",
        "  print(lemma_tokens)\n",
        "\n",
        "  lemma_tokens = lemma_tokens.lower()\n",
        "  print(lemma_tokens)\n",
        "\n",
        "  lemma_tokens = remove_words(lemma_tokens, badword_default)\n",
        "  print(lemma_tokens)\n",
        "\n",
        "  lemma_tokens = re.sub(' +', ' ', lemma_tokens)\n",
        "  print(lemma_tokens)\n",
        "\n",
        "  lemma_tokens = lemma_tokens.strip()\n",
        "  print(lemma_tokens)"
      ],
      "metadata": {
        "id": "_48jbU1k0m4Q"
      },
      "execution_count": null,
      "outputs": []
    },
    {
      "cell_type": "code",
      "source": [
        "clear_text2('Liminar Suspende dividendos da petrobras http://tinyurl.com/c8693t')"
      ],
      "metadata": {
        "colab": {
          "base_uri": "https://localhost:8080/"
        },
        "id": "2yS7Qp561gt7",
        "outputId": "455a53cc-c431-4b0c-dceb-d13c4c2faa34"
      },
      "execution_count": null,
      "outputs": [
        {
          "output_type": "stream",
          "name": "stdout",
          "text": [
            "liminar suspende dividendos da petrobras http://tinyurl.com/c8693t\n",
            "liminar suspende dividendos da petrobras httptinyurlcomct\n",
            "liminar suspende dividendos da  httptinyurlcomct\n",
            "liminar suspende dividendos httptinyurlcomct \n",
            "liminar suspender dividendo \n",
            "liminar suspender dividendo \n",
            "liminar suspender dividendo \n",
            "liminar suspender dividendo \n",
            "liminar suspender dividendo\n"
          ]
        }
      ]
    },
    {
      "cell_type": "code",
      "source": [
        "def clear_data2(filename, merge_data=False):\n",
        "  df = pd.read_csv(filename)\n",
        "\n",
        "  # Remove Duplicates\n",
        "  df = df.drop_duplicates(subset=[\"text\"], keep=False)\n",
        "\n",
        "  # Add white space in end of column text\n",
        "  df['text'] = df['text'] + ' '\n",
        "\n",
        "  # Merge duplicate date columns\n",
        "  df = df.groupby(['date'], as_index=False).sum()\n",
        "\n",
        "  data_clear = {\"date\":[], \"text\":[]}\n",
        "  df_clean = pd.DataFrame(columns=['date', 'text'])\n",
        "\n",
        "  for i in range(0, len(df.index)):\n",
        "    data_clear[\"date\"].append(df.loc[i, \"date\"])\n",
        "    data_clear['text'].append(clear_text(df.loc[i, 'text']))\n",
        "\n",
        "  df_clean = df_clean.assign(date=data_clear[\"date\"],text=data_clear['text'])\n",
        "  ffname = \"clean_\"+filename\n",
        "  df_clean.to_csv(ffname, sep=',', index=False)\n",
        "\n",
        "  files.download(ffname)\n",
        "\n",
        "  return df_clean"
      ],
      "metadata": {
        "id": "aA4iwedtTEY3"
      },
      "execution_count": null,
      "outputs": []
    },
    {
      "cell_type": "code",
      "source": [
        "test_list = ['Vale emite nota formal para órgãos públicos reiterando compromisso com levantamento e compartilhamento de informações sobre tragédia em Brumadinho - CidadeMarketing',\n",
        "             'Parque de Inhotim é esvaziado por conta do rompimento da barragem - Metrópoles',\n",
        "             '']\n",
        "\n",
        "for item in test_list:\n",
        "  print(clear_text(item))"
      ],
      "metadata": {
        "colab": {
          "base_uri": "https://localhost:8080/"
        },
        "id": "u-bz2kwZqUuz",
        "outputId": "9fdb1b40-7008-4315-b8be-17e0d9cffc9e"
      },
      "execution_count": null,
      "outputs": [
        {
          "output_type": "stream",
          "name": "stdout",
          "text": [
            "emite nota formal órgão público reiterar compromisso levantamento compartilhamento informação sobre tragédia\n",
            "esvaziar conta rompimento barragem\n",
            "\n"
          ]
        }
      ]
    },
    {
      "cell_type": "markdown",
      "source": [
        "# OLD CLEAR DATA"
      ],
      "metadata": {
        "id": "DaUDnaNaXFu7"
      }
    },
    {
      "cell_type": "code",
      "source": [
        "def clear_data(filename, merge_data=False):\n",
        "  df = pd.read_csv(filename)\n",
        "\n",
        "  # Remove Duplicates\n",
        "  df = df.drop_duplicates(subset=[\"text\"], keep=False)\n",
        "\n",
        "  data_clear = {\"date\":[], \"text\":[]}\n",
        "  df_clean = pd.DataFrame(columns=['date', 'text'])\n",
        "\n",
        "  row_size = len(df.index)\n",
        "\n",
        "\n",
        "  #return df.head(15)\n",
        "  start_value = 0\n",
        "  if merge_data: start_value = 1\n",
        "\n",
        "  cur_title = clear_text(df.loc[0, 'text'])\n",
        "  for i in range(start_value, row_size):\n",
        "    clr_text = clear_text(df.loc[i, 'text'])\n",
        "    cur_date = df.loc[i, \"date\"]\n",
        "\n",
        "    if merge_data:\n",
        "      prev_date = df.loc[i-1, \"date\"]\n",
        "      if cur_date == prev_date:\n",
        "        cur_title += \" \" + clr_text\n",
        "      if cur_date != prev_date or i >= row_size-1:\n",
        "        if i >= row_size-1: #ERROR\n",
        "          if cur_date != prev_date:\n",
        "\n",
        "            data_clear[\"date\"].append(prev_date)\n",
        "            data_clear['text'].append(cur_title)\n",
        "\n",
        "            cur_title = clr_text\n",
        "            data_clear[\"date\"].append(cur_date)\n",
        "\n",
        "          else:\n",
        "            cur_title += \" \" + clr_text\n",
        "            data_clear[\"date\"].append(cur_date)\n",
        "        else:\n",
        "          data_clear[\"date\"].append(prev_date)\n",
        "        data_clear['text'].append(cur_title)\n",
        "        cur_title = clr_text\n",
        "    else:\n",
        "      data_clear[\"date\"].append(cur_date)\n",
        "      data_clear['text'].append(clr_text)\n",
        "\n",
        "  df_clean = df_clean.assign(date=data_clear[\"date\"],text=data_clear['text'])\n",
        "  df_clean.to_csv(\"clean_\"+filename, sep=',', index=False)\n",
        "  return df_clean"
      ],
      "metadata": {
        "id": "SM9oyULlS_eB"
      },
      "execution_count": null,
      "outputs": []
    },
    {
      "cell_type": "markdown",
      "source": [],
      "metadata": {
        "id": "FoLtV-60IOwq"
      }
    },
    {
      "cell_type": "markdown",
      "source": [
        "# DATA TEST"
      ],
      "metadata": {
        "id": "FqFujBNGXIqf"
      }
    },
    {
      "cell_type": "code",
      "source": [
        "df_new = clear_data2('raw_tw_petrobras_2021-01-01_2022-01-01.csv', merge_data=True)"
      ],
      "metadata": {
        "id": "sdRkqKCTOgha"
      },
      "execution_count": null,
      "outputs": []
    },
    {
      "cell_type": "code",
      "source": [
        "df_n = pd.read_csv('raw_tw_petrobras_2021-01-01_2022-01-01.csv')\n",
        "\n",
        "df_n = df_n.drop_duplicates(subset=[\"text\"], keep=False)\n",
        "\n",
        "df_n['text'] = df_n['text'] + ' '\n",
        "\n",
        "df_n = df_n.groupby(['date'], as_index=False).sum()\n",
        "\n",
        "df_n.head(15)\n",
        "\n",
        "#for i in range(0, len(df_n.index)):\n",
        "  #print(df_n.loc[i, \"date\"])\n",
        " # print(clear_text(df_n.loc[i, \"text\"]))"
      ],
      "metadata": {
        "id": "9Swkl1BiCKlW"
      },
      "execution_count": null,
      "outputs": []
    },
    {
      "cell_type": "code",
      "source": [
        "df_new.head(15)"
      ],
      "metadata": {
        "id": "0b_8QhfpVxcV"
      },
      "execution_count": null,
      "outputs": []
    },
    {
      "cell_type": "markdown",
      "source": [
        "# SENTIMENT ANALYSIS"
      ],
      "metadata": {
        "id": "1EuVJ7UterpG"
      }
    },
    {
      "cell_type": "code",
      "source": [
        "from google.colab import drive\n",
        "drive.mount('/content/drive')"
      ],
      "metadata": {
        "id": "hkfQnkdnf_qC"
      },
      "execution_count": null,
      "outputs": []
    },
    {
      "cell_type": "code",
      "source": [
        "import importlib.util\n",
        "spec=importlib.util.spec_from_file_location(\"leia\",\"/content/drive/MyDrive/DEV/Python/libs/Leia/leia.py\")\n",
        "vader_l = importlib.util.module_from_spec(spec)\n",
        "spec.loader.exec_module(vader_l)\n",
        "lsentiment = vader_l.SentimentIntensityAnalyzer()"
      ],
      "metadata": {
        "id": "8u4CEXnaexu8"
      },
      "execution_count": null,
      "outputs": []
    },
    {
      "cell_type": "code",
      "source": [
        "# Create a function to get the subjectivity\n",
        "def getSubjectivity(text):\n",
        "  return TextBlob(text).sentiment.subjectivity\n",
        "# Create a function to get the polarity\n",
        "def getPolarity(text):\n",
        "  return  TextBlob(text).sentiment.polarity"
      ],
      "metadata": {
        "id": "dc3DmmZ9kKDg"
      },
      "execution_count": null,
      "outputs": []
    },
    {
      "cell_type": "code",
      "source": [
        "def check_polarity(text):\n",
        "  return lsentiment.polarity_scores(text)"
      ],
      "metadata": {
        "id": "FcLMmL8kgWjo"
      },
      "execution_count": null,
      "outputs": []
    },
    {
      "cell_type": "code",
      "source": [
        "def check_sentiment(polarity):\n",
        "    if polarity['neg'] > polarity['pos']:\n",
        "        return \"negative\"\n",
        "    elif polarity['pos'] > polarity['neg']:\n",
        "        return \"positive\"\n",
        "    else:\n",
        "        return \"neutral\""
      ],
      "metadata": {
        "id": "6QYdBKibgt4N"
      },
      "execution_count": null,
      "outputs": []
    },
    {
      "cell_type": "code",
      "source": [
        "def analyse_clean_data(datapath, text=\"text\"):\n",
        "\n",
        "  data = clear_data2(datapath, merge_data=True)\n",
        "\n",
        "  _dates = []\n",
        "  #_texts = []\n",
        "  _polarities = {\"sentiment\":[],\"subjectivity\":[],\"polarity\":[],\"compound\":[],\"positive\":[], \"negative\":[], \"neutral\":[]}\n",
        "\n",
        "  #df_sentiment = pd.DataFrame(columns=['date', text, 'sentiment', 'positive', 'negative', 'neutral'])\n",
        "\n",
        "  row_size = len(data.index)\n",
        "\n",
        "  for i in range(0, row_size):\n",
        "    _dates.append(data.loc[i, \"date\"])\n",
        "    cur_text = data.loc[i, text]\n",
        "    _polarity = check_polarity(cur_text)\n",
        "    _polarities[\"sentiment\"].append(check_sentiment(_polarity))\n",
        "    _polarities[\"subjectivity\"].append(getSubjectivity(cur_text))\n",
        "    _polarities[\"polarity\"].append(getPolarity(cur_text))\n",
        "    _polarities[\"compound\"].append(_polarity[\"compound\"])\n",
        "    _polarities[\"positive\"].append(_polarity[\"pos\"])\n",
        "    _polarities[\"negative\"].append(_polarity[\"neg\"])\n",
        "    _polarities[\"neutral\"].append(_polarity[\"neu\"])\n",
        "\n",
        "  df_sentiment = pd.DataFrame(list(zip(_dates,\n",
        "                                       _polarities[\"sentiment\"],\n",
        "                                       _polarities[\"subjectivity\"],\n",
        "                                       _polarities[\"polarity\"],\n",
        "                                       _polarities[\"compound\"],\n",
        "                                       _polarities[\"positive\"],\n",
        "                                       _polarities[\"negative\"],\n",
        "                                       _polarities[\"neutral\"])),\n",
        "               columns =['date',\n",
        "                         'sentiment',\n",
        "                         'subjectivity',\n",
        "                         'polarity',\n",
        "                         'compound',\n",
        "                         'positive',\n",
        "                         'negative',\n",
        "                         'neutral'])\n",
        "  #df_sentiment = pd.DataFrame(list(zip(_dates,_polarities[\"sentiment\"], _polarities[\"positive\"], _polarities[\"negative\"], _polarities[\"neutral\"])),\n",
        "  #             columns =['date','sentiment','positive', 'negative', 'neutral'])\n",
        "\n",
        "  now = datetime.now()\n",
        "  current_time = now.strftime(\"%Y%m%d%H%M%S\")\n",
        "\n",
        "  splitted_name = datapath.split('_')\n",
        "  name_to_save = \"sentiment\"+\"_\"+splitted_name[1]+\"_\"+splitted_name[2]+\"_\"+splitted_name[3]+\"_\"+splitted_name[4]\n",
        "  # \"sentiment_\"+current_time+\".csv\"\n",
        "  df_sentiment.to_csv(name_to_save, sep=',', index=False)\n",
        "\n",
        "  files.download(name_to_save)\n",
        "\n",
        "  return df_sentiment"
      ],
      "metadata": {
        "id": "FTupr34wgn5U"
      },
      "execution_count": null,
      "outputs": []
    },
    {
      "cell_type": "code",
      "source": [
        "analyse_clean_data('raw_tw_VALE3_2008-01-01_2022-09-20.csv')\n",
        "analyse_clean_data('raw_gn_VALE3_2008-01-01_2022-09-20.csv')"
      ],
      "metadata": {
        "id": "LT3UjHnvGH8t",
        "colab": {
          "base_uri": "https://localhost:8080/",
          "height": 424
        },
        "outputId": "b50854ab-b5a8-4812-e08f-8183855d0b4d"
      },
      "execution_count": null,
      "outputs": [
        {
          "output_type": "display_data",
          "data": {
            "text/plain": [
              "<IPython.core.display.Javascript object>"
            ],
            "application/javascript": [
              "\n",
              "    async function download(id, filename, size) {\n",
              "      if (!google.colab.kernel.accessAllowed) {\n",
              "        return;\n",
              "      }\n",
              "      const div = document.createElement('div');\n",
              "      const label = document.createElement('label');\n",
              "      label.textContent = `Downloading \"${filename}\": `;\n",
              "      div.appendChild(label);\n",
              "      const progress = document.createElement('progress');\n",
              "      progress.max = size;\n",
              "      div.appendChild(progress);\n",
              "      document.body.appendChild(div);\n",
              "\n",
              "      const buffers = [];\n",
              "      let downloaded = 0;\n",
              "\n",
              "      const channel = await google.colab.kernel.comms.open(id);\n",
              "      // Send a message to notify the kernel that we're ready.\n",
              "      channel.send({})\n",
              "\n",
              "      for await (const message of channel.messages) {\n",
              "        // Send a message to notify the kernel that we're ready.\n",
              "        channel.send({})\n",
              "        if (message.buffers) {\n",
              "          for (const buffer of message.buffers) {\n",
              "            buffers.push(buffer);\n",
              "            downloaded += buffer.byteLength;\n",
              "            progress.value = downloaded;\n",
              "          }\n",
              "        }\n",
              "      }\n",
              "      const blob = new Blob(buffers, {type: 'application/binary'});\n",
              "      const a = document.createElement('a');\n",
              "      a.href = window.URL.createObjectURL(blob);\n",
              "      a.download = filename;\n",
              "      div.appendChild(a);\n",
              "      a.click();\n",
              "      div.remove();\n",
              "    }\n",
              "  "
            ]
          },
          "metadata": {}
        },
        {
          "output_type": "display_data",
          "data": {
            "text/plain": [
              "<IPython.core.display.Javascript object>"
            ],
            "application/javascript": [
              "download(\"download_aab82b56-724f-42e1-8263-01fd1b82eb5c\", \"clean_raw_tw_VALE3_2008-01-01_2022-09-20.csv\", 340944)"
            ]
          },
          "metadata": {}
        },
        {
          "output_type": "display_data",
          "data": {
            "text/plain": [
              "<IPython.core.display.Javascript object>"
            ],
            "application/javascript": [
              "\n",
              "    async function download(id, filename, size) {\n",
              "      if (!google.colab.kernel.accessAllowed) {\n",
              "        return;\n",
              "      }\n",
              "      const div = document.createElement('div');\n",
              "      const label = document.createElement('label');\n",
              "      label.textContent = `Downloading \"${filename}\": `;\n",
              "      div.appendChild(label);\n",
              "      const progress = document.createElement('progress');\n",
              "      progress.max = size;\n",
              "      div.appendChild(progress);\n",
              "      document.body.appendChild(div);\n",
              "\n",
              "      const buffers = [];\n",
              "      let downloaded = 0;\n",
              "\n",
              "      const channel = await google.colab.kernel.comms.open(id);\n",
              "      // Send a message to notify the kernel that we're ready.\n",
              "      channel.send({})\n",
              "\n",
              "      for await (const message of channel.messages) {\n",
              "        // Send a message to notify the kernel that we're ready.\n",
              "        channel.send({})\n",
              "        if (message.buffers) {\n",
              "          for (const buffer of message.buffers) {\n",
              "            buffers.push(buffer);\n",
              "            downloaded += buffer.byteLength;\n",
              "            progress.value = downloaded;\n",
              "          }\n",
              "        }\n",
              "      }\n",
              "      const blob = new Blob(buffers, {type: 'application/binary'});\n",
              "      const a = document.createElement('a');\n",
              "      a.href = window.URL.createObjectURL(blob);\n",
              "      a.download = filename;\n",
              "      div.appendChild(a);\n",
              "      a.click();\n",
              "      div.remove();\n",
              "    }\n",
              "  "
            ]
          },
          "metadata": {}
        },
        {
          "output_type": "display_data",
          "data": {
            "text/plain": [
              "<IPython.core.display.Javascript object>"
            ],
            "application/javascript": [
              "download(\"download_fca8760d-f24f-45a0-849f-575e2c83d88f\", \"sentiment_tw_VALE3_2008-01-01_2022-09-20.csv\", 93699)"
            ]
          },
          "metadata": {}
        },
        {
          "output_type": "display_data",
          "data": {
            "text/plain": [
              "<IPython.core.display.Javascript object>"
            ],
            "application/javascript": [
              "\n",
              "    async function download(id, filename, size) {\n",
              "      if (!google.colab.kernel.accessAllowed) {\n",
              "        return;\n",
              "      }\n",
              "      const div = document.createElement('div');\n",
              "      const label = document.createElement('label');\n",
              "      label.textContent = `Downloading \"${filename}\": `;\n",
              "      div.appendChild(label);\n",
              "      const progress = document.createElement('progress');\n",
              "      progress.max = size;\n",
              "      div.appendChild(progress);\n",
              "      document.body.appendChild(div);\n",
              "\n",
              "      const buffers = [];\n",
              "      let downloaded = 0;\n",
              "\n",
              "      const channel = await google.colab.kernel.comms.open(id);\n",
              "      // Send a message to notify the kernel that we're ready.\n",
              "      channel.send({})\n",
              "\n",
              "      for await (const message of channel.messages) {\n",
              "        // Send a message to notify the kernel that we're ready.\n",
              "        channel.send({})\n",
              "        if (message.buffers) {\n",
              "          for (const buffer of message.buffers) {\n",
              "            buffers.push(buffer);\n",
              "            downloaded += buffer.byteLength;\n",
              "            progress.value = downloaded;\n",
              "          }\n",
              "        }\n",
              "      }\n",
              "      const blob = new Blob(buffers, {type: 'application/binary'});\n",
              "      const a = document.createElement('a');\n",
              "      a.href = window.URL.createObjectURL(blob);\n",
              "      a.download = filename;\n",
              "      div.appendChild(a);\n",
              "      a.click();\n",
              "      div.remove();\n",
              "    }\n",
              "  "
            ]
          },
          "metadata": {}
        },
        {
          "output_type": "display_data",
          "data": {
            "text/plain": [
              "<IPython.core.display.Javascript object>"
            ],
            "application/javascript": [
              "download(\"download_abdf5053-ce8f-4324-8d88-771f26de0ed9\", \"clean_raw_gn_VALE3_2008-01-01_2022-09-20.csv\", 347036)"
            ]
          },
          "metadata": {}
        },
        {
          "output_type": "display_data",
          "data": {
            "text/plain": [
              "<IPython.core.display.Javascript object>"
            ],
            "application/javascript": [
              "\n",
              "    async function download(id, filename, size) {\n",
              "      if (!google.colab.kernel.accessAllowed) {\n",
              "        return;\n",
              "      }\n",
              "      const div = document.createElement('div');\n",
              "      const label = document.createElement('label');\n",
              "      label.textContent = `Downloading \"${filename}\": `;\n",
              "      div.appendChild(label);\n",
              "      const progress = document.createElement('progress');\n",
              "      progress.max = size;\n",
              "      div.appendChild(progress);\n",
              "      document.body.appendChild(div);\n",
              "\n",
              "      const buffers = [];\n",
              "      let downloaded = 0;\n",
              "\n",
              "      const channel = await google.colab.kernel.comms.open(id);\n",
              "      // Send a message to notify the kernel that we're ready.\n",
              "      channel.send({})\n",
              "\n",
              "      for await (const message of channel.messages) {\n",
              "        // Send a message to notify the kernel that we're ready.\n",
              "        channel.send({})\n",
              "        if (message.buffers) {\n",
              "          for (const buffer of message.buffers) {\n",
              "            buffers.push(buffer);\n",
              "            downloaded += buffer.byteLength;\n",
              "            progress.value = downloaded;\n",
              "          }\n",
              "        }\n",
              "      }\n",
              "      const blob = new Blob(buffers, {type: 'application/binary'});\n",
              "      const a = document.createElement('a');\n",
              "      a.href = window.URL.createObjectURL(blob);\n",
              "      a.download = filename;\n",
              "      div.appendChild(a);\n",
              "      a.click();\n",
              "      div.remove();\n",
              "    }\n",
              "  "
            ]
          },
          "metadata": {}
        },
        {
          "output_type": "display_data",
          "data": {
            "text/plain": [
              "<IPython.core.display.Javascript object>"
            ],
            "application/javascript": [
              "download(\"download_2e588ef7-9340-4805-895f-395082c313f5\", \"sentiment_gn_VALE3_2008-01-01_2022-09-20.csv\", 93157)"
            ]
          },
          "metadata": {}
        },
        {
          "output_type": "execute_result",
          "data": {
            "text/plain": [
              "            date sentiment  subjectivity  polarity  compound  positive  \\\n",
              "0     2008-02-29   neutral           0.0       0.0    0.0000     0.000   \n",
              "1     2008-08-15  negative           0.0       0.0   -0.4215     0.000   \n",
              "2     2008-11-04   neutral           0.0       0.0    0.0000     0.000   \n",
              "3     2009-05-04   neutral           0.0       0.0    0.0000     0.000   \n",
              "4     2009-09-12   neutral           0.0       0.0    0.0000     0.000   \n",
              "...          ...       ...           ...       ...       ...       ...   \n",
              "1828  2022-09-16  positive           0.3       0.2    0.9186     0.152   \n",
              "1829  2022-09-17  positive           0.0       0.0    0.2732     0.093   \n",
              "1830  2022-09-18  negative           0.0       0.0   -0.6705     0.094   \n",
              "1831  2022-09-19  positive           0.0       0.0    0.0516     0.143   \n",
              "1832  2022-09-20   neutral           0.0       0.0    0.0000     0.000   \n",
              "\n",
              "      negative  neutral  \n",
              "0        0.000    1.000  \n",
              "1        0.259    0.741  \n",
              "2        0.000    1.000  \n",
              "3        0.000    1.000  \n",
              "4        0.000    1.000  \n",
              "...        ...      ...  \n",
              "1828     0.058    0.789  \n",
              "1829     0.032    0.875  \n",
              "1830     0.200    0.706  \n",
              "1831     0.120    0.737  \n",
              "1832     0.000    1.000  \n",
              "\n",
              "[1833 rows x 8 columns]"
            ],
            "text/html": [
              "\n",
              "  <div id=\"df-6d3dff41-cce0-4aff-b945-df5587da7f50\">\n",
              "    <div class=\"colab-df-container\">\n",
              "      <div>\n",
              "<style scoped>\n",
              "    .dataframe tbody tr th:only-of-type {\n",
              "        vertical-align: middle;\n",
              "    }\n",
              "\n",
              "    .dataframe tbody tr th {\n",
              "        vertical-align: top;\n",
              "    }\n",
              "\n",
              "    .dataframe thead th {\n",
              "        text-align: right;\n",
              "    }\n",
              "</style>\n",
              "<table border=\"1\" class=\"dataframe\">\n",
              "  <thead>\n",
              "    <tr style=\"text-align: right;\">\n",
              "      <th></th>\n",
              "      <th>date</th>\n",
              "      <th>sentiment</th>\n",
              "      <th>subjectivity</th>\n",
              "      <th>polarity</th>\n",
              "      <th>compound</th>\n",
              "      <th>positive</th>\n",
              "      <th>negative</th>\n",
              "      <th>neutral</th>\n",
              "    </tr>\n",
              "  </thead>\n",
              "  <tbody>\n",
              "    <tr>\n",
              "      <th>0</th>\n",
              "      <td>2008-02-29</td>\n",
              "      <td>neutral</td>\n",
              "      <td>0.0</td>\n",
              "      <td>0.0</td>\n",
              "      <td>0.0000</td>\n",
              "      <td>0.000</td>\n",
              "      <td>0.000</td>\n",
              "      <td>1.000</td>\n",
              "    </tr>\n",
              "    <tr>\n",
              "      <th>1</th>\n",
              "      <td>2008-08-15</td>\n",
              "      <td>negative</td>\n",
              "      <td>0.0</td>\n",
              "      <td>0.0</td>\n",
              "      <td>-0.4215</td>\n",
              "      <td>0.000</td>\n",
              "      <td>0.259</td>\n",
              "      <td>0.741</td>\n",
              "    </tr>\n",
              "    <tr>\n",
              "      <th>2</th>\n",
              "      <td>2008-11-04</td>\n",
              "      <td>neutral</td>\n",
              "      <td>0.0</td>\n",
              "      <td>0.0</td>\n",
              "      <td>0.0000</td>\n",
              "      <td>0.000</td>\n",
              "      <td>0.000</td>\n",
              "      <td>1.000</td>\n",
              "    </tr>\n",
              "    <tr>\n",
              "      <th>3</th>\n",
              "      <td>2009-05-04</td>\n",
              "      <td>neutral</td>\n",
              "      <td>0.0</td>\n",
              "      <td>0.0</td>\n",
              "      <td>0.0000</td>\n",
              "      <td>0.000</td>\n",
              "      <td>0.000</td>\n",
              "      <td>1.000</td>\n",
              "    </tr>\n",
              "    <tr>\n",
              "      <th>4</th>\n",
              "      <td>2009-09-12</td>\n",
              "      <td>neutral</td>\n",
              "      <td>0.0</td>\n",
              "      <td>0.0</td>\n",
              "      <td>0.0000</td>\n",
              "      <td>0.000</td>\n",
              "      <td>0.000</td>\n",
              "      <td>1.000</td>\n",
              "    </tr>\n",
              "    <tr>\n",
              "      <th>...</th>\n",
              "      <td>...</td>\n",
              "      <td>...</td>\n",
              "      <td>...</td>\n",
              "      <td>...</td>\n",
              "      <td>...</td>\n",
              "      <td>...</td>\n",
              "      <td>...</td>\n",
              "      <td>...</td>\n",
              "    </tr>\n",
              "    <tr>\n",
              "      <th>1828</th>\n",
              "      <td>2022-09-16</td>\n",
              "      <td>positive</td>\n",
              "      <td>0.3</td>\n",
              "      <td>0.2</td>\n",
              "      <td>0.9186</td>\n",
              "      <td>0.152</td>\n",
              "      <td>0.058</td>\n",
              "      <td>0.789</td>\n",
              "    </tr>\n",
              "    <tr>\n",
              "      <th>1829</th>\n",
              "      <td>2022-09-17</td>\n",
              "      <td>positive</td>\n",
              "      <td>0.0</td>\n",
              "      <td>0.0</td>\n",
              "      <td>0.2732</td>\n",
              "      <td>0.093</td>\n",
              "      <td>0.032</td>\n",
              "      <td>0.875</td>\n",
              "    </tr>\n",
              "    <tr>\n",
              "      <th>1830</th>\n",
              "      <td>2022-09-18</td>\n",
              "      <td>negative</td>\n",
              "      <td>0.0</td>\n",
              "      <td>0.0</td>\n",
              "      <td>-0.6705</td>\n",
              "      <td>0.094</td>\n",
              "      <td>0.200</td>\n",
              "      <td>0.706</td>\n",
              "    </tr>\n",
              "    <tr>\n",
              "      <th>1831</th>\n",
              "      <td>2022-09-19</td>\n",
              "      <td>positive</td>\n",
              "      <td>0.0</td>\n",
              "      <td>0.0</td>\n",
              "      <td>0.0516</td>\n",
              "      <td>0.143</td>\n",
              "      <td>0.120</td>\n",
              "      <td>0.737</td>\n",
              "    </tr>\n",
              "    <tr>\n",
              "      <th>1832</th>\n",
              "      <td>2022-09-20</td>\n",
              "      <td>neutral</td>\n",
              "      <td>0.0</td>\n",
              "      <td>0.0</td>\n",
              "      <td>0.0000</td>\n",
              "      <td>0.000</td>\n",
              "      <td>0.000</td>\n",
              "      <td>1.000</td>\n",
              "    </tr>\n",
              "  </tbody>\n",
              "</table>\n",
              "<p>1833 rows × 8 columns</p>\n",
              "</div>\n",
              "      <button class=\"colab-df-convert\" onclick=\"convertToInteractive('df-6d3dff41-cce0-4aff-b945-df5587da7f50')\"\n",
              "              title=\"Convert this dataframe to an interactive table.\"\n",
              "              style=\"display:none;\">\n",
              "        \n",
              "  <svg xmlns=\"http://www.w3.org/2000/svg\" height=\"24px\"viewBox=\"0 0 24 24\"\n",
              "       width=\"24px\">\n",
              "    <path d=\"M0 0h24v24H0V0z\" fill=\"none\"/>\n",
              "    <path d=\"M18.56 5.44l.94 2.06.94-2.06 2.06-.94-2.06-.94-.94-2.06-.94 2.06-2.06.94zm-11 1L8.5 8.5l.94-2.06 2.06-.94-2.06-.94L8.5 2.5l-.94 2.06-2.06.94zm10 10l.94 2.06.94-2.06 2.06-.94-2.06-.94-.94-2.06-.94 2.06-2.06.94z\"/><path d=\"M17.41 7.96l-1.37-1.37c-.4-.4-.92-.59-1.43-.59-.52 0-1.04.2-1.43.59L10.3 9.45l-7.72 7.72c-.78.78-.78 2.05 0 2.83L4 21.41c.39.39.9.59 1.41.59.51 0 1.02-.2 1.41-.59l7.78-7.78 2.81-2.81c.8-.78.8-2.07 0-2.86zM5.41 20L4 18.59l7.72-7.72 1.47 1.35L5.41 20z\"/>\n",
              "  </svg>\n",
              "      </button>\n",
              "      \n",
              "  <style>\n",
              "    .colab-df-container {\n",
              "      display:flex;\n",
              "      flex-wrap:wrap;\n",
              "      gap: 12px;\n",
              "    }\n",
              "\n",
              "    .colab-df-convert {\n",
              "      background-color: #E8F0FE;\n",
              "      border: none;\n",
              "      border-radius: 50%;\n",
              "      cursor: pointer;\n",
              "      display: none;\n",
              "      fill: #1967D2;\n",
              "      height: 32px;\n",
              "      padding: 0 0 0 0;\n",
              "      width: 32px;\n",
              "    }\n",
              "\n",
              "    .colab-df-convert:hover {\n",
              "      background-color: #E2EBFA;\n",
              "      box-shadow: 0px 1px 2px rgba(60, 64, 67, 0.3), 0px 1px 3px 1px rgba(60, 64, 67, 0.15);\n",
              "      fill: #174EA6;\n",
              "    }\n",
              "\n",
              "    [theme=dark] .colab-df-convert {\n",
              "      background-color: #3B4455;\n",
              "      fill: #D2E3FC;\n",
              "    }\n",
              "\n",
              "    [theme=dark] .colab-df-convert:hover {\n",
              "      background-color: #434B5C;\n",
              "      box-shadow: 0px 1px 3px 1px rgba(0, 0, 0, 0.15);\n",
              "      filter: drop-shadow(0px 1px 2px rgba(0, 0, 0, 0.3));\n",
              "      fill: #FFFFFF;\n",
              "    }\n",
              "  </style>\n",
              "\n",
              "      <script>\n",
              "        const buttonEl =\n",
              "          document.querySelector('#df-6d3dff41-cce0-4aff-b945-df5587da7f50 button.colab-df-convert');\n",
              "        buttonEl.style.display =\n",
              "          google.colab.kernel.accessAllowed ? 'block' : 'none';\n",
              "\n",
              "        async function convertToInteractive(key) {\n",
              "          const element = document.querySelector('#df-6d3dff41-cce0-4aff-b945-df5587da7f50');\n",
              "          const dataTable =\n",
              "            await google.colab.kernel.invokeFunction('convertToInteractive',\n",
              "                                                     [key], {});\n",
              "          if (!dataTable) return;\n",
              "\n",
              "          const docLinkHtml = 'Like what you see? Visit the ' +\n",
              "            '<a target=\"_blank\" href=https://colab.research.google.com/notebooks/data_table.ipynb>data table notebook</a>'\n",
              "            + ' to learn more about interactive tables.';\n",
              "          element.innerHTML = '';\n",
              "          dataTable['output_type'] = 'display_data';\n",
              "          await google.colab.output.renderOutput(dataTable, element);\n",
              "          const docLink = document.createElement('div');\n",
              "          docLink.innerHTML = docLinkHtml;\n",
              "          element.appendChild(docLink);\n",
              "        }\n",
              "      </script>\n",
              "    </div>\n",
              "  </div>\n",
              "  "
            ]
          },
          "metadata": {},
          "execution_count": 14
        }
      ]
    },
    {
      "cell_type": "code",
      "source": [
        "analyse_clean_data('raw_tw_BBDC4_2008-01-01_2022-09-20.csv')\n",
        "analyse_clean_data('raw_gn_BBDC4_2008-01-01_2022-09-20.csv')"
      ],
      "metadata": {
        "id": "lm66jv9qLRvB"
      },
      "execution_count": null,
      "outputs": []
    },
    {
      "cell_type": "code",
      "source": [
        "analyse_clean_data('raw_tw_ITUB4_2008-01-01_2022-09-20.csv')\n",
        "analyse_clean_data('raw_gn_ITUB4_2008-01-01_2022-09-20.csv')"
      ],
      "metadata": {
        "id": "pNXwgQ23K28l"
      },
      "execution_count": null,
      "outputs": []
    },
    {
      "cell_type": "code",
      "source": [
        "analyse_clean_data('raw_gn_Vale S.A_2011-01-01_2022-01-01.csv')"
      ],
      "metadata": {
        "id": "lWfUerq3pzAj"
      },
      "execution_count": null,
      "outputs": []
    },
    {
      "cell_type": "code",
      "source": [
        "analyse_clean_data('raw_gn_petrobras_2006-01-01_2022-01-01.csv')\n",
        "#analyse_clean_data('raw_tw_petrobras_2006-01-01_2022-01-01.csv')"
      ],
      "metadata": {
        "id": "IkiCi5ugzVz_"
      },
      "execution_count": null,
      "outputs": []
    },
    {
      "cell_type": "code",
      "source": [
        "analyse_clean_data('raw_gn_petrobras_2011-01-01_2022-01-01.csv')\n",
        "analyse_clean_data('raw_tw_petrobras_2011-01-01_2022-01-01.csv')"
      ],
      "metadata": {
        "id": "YcMezGMvz3H7"
      },
      "execution_count": null,
      "outputs": []
    },
    {
      "cell_type": "code",
      "source": [
        "# 2011 - 2022\n",
        "\n",
        "# GOOGLE NEWS\n",
        "#analyse_clean_data('raw_gn_petrobras_2011-01-01_2022-01-01.csv')\n",
        "analyse_clean_data('raw_gn_Ambev_2011-01-01_2022-01-01.csv')\n",
        "analyse_clean_data('raw_gn_Bradesco_2011-01-01_2022-01-01.csv')\n",
        "analyse_clean_data('raw_gn_itau_2011-01-01_2022-01-01.csv')\n",
        "analyse_clean_data('raw_gn_vale_2011-01-01_2022-01-01.csv')\n",
        "\n",
        "# TWITTER\n",
        "#analyse_clean_data('raw_tw_petrobras_2011-01-01_2022-01-01.csv')\n",
        "analyse_clean_data('raw_tw_Ambev_2011-01-01_2022-01-01.csv')\n",
        "analyse_clean_data('raw_tw_Bradesco_2011-01-01_2022-01-01.csv')\n",
        "analyse_clean_data('raw_tw_itau_2011-01-01_2022-01-01.csv')\n",
        "analyse_clean_data('raw_tw_valenobrasil_2011-01-01_2022-01-01.csv')"
      ],
      "metadata": {
        "id": "4L3PACgohCpw"
      },
      "execution_count": null,
      "outputs": []
    },
    {
      "cell_type": "code",
      "source": [
        "# 2021 - 2022\n",
        "\n",
        "# GOOGLE NEWS\n",
        "analyse_clean_data('raw_gn_petrobras_2021-01-01_2022-01-01.csv')\n",
        "analyse_clean_data('raw_gn_Ambev_2021-01-01_2022-01-01.csv')\n",
        "analyse_clean_data('raw_gn_Bradesco_2021-01-01_2022-01-01.csv')\n",
        "analyse_clean_data('raw_gn_itau_2021-01-01_2022-01-01.csv')\n",
        "analyse_clean_data('raw_gn_vale_2021-01-01_2022-01-01.csv')\n",
        "\n",
        "# TWITTER\n",
        "analyse_clean_data('raw_tw_petrobras_2021-01-01_2022-01-01.csv')\n",
        "analyse_clean_data('raw_tw_Ambev_2021-01-01_2022-01-01.csv')\n",
        "analyse_clean_data('raw_tw_Bradesco_2021-01-01_2022-01-01.csv')\n",
        "analyse_clean_data('raw_tw_itau_2021-01-01_2022-01-01.csv')\n",
        "analyse_clean_data('raw_tw_valenobrasil_2021-01-01_2022-01-01.csv')"
      ],
      "metadata": {
        "id": "Dax7XiAikiK2"
      },
      "execution_count": null,
      "outputs": []
    },
    {
      "cell_type": "code",
      "source": [
        "#2019 - 2022\n",
        "\n",
        "# GOOGLE NEWS\n",
        "analyse_clean_data('raw_gn_petrobras_2019-01-01_2022-01-01.csv')\n",
        "analyse_clean_data('raw_gn_Ambev_2019-01-01_2022-01-01.csv')\n",
        "analyse_clean_data('raw_gn_Bradesco_2019-01-01_2022-01-01.csv')\n",
        "analyse_clean_data('raw_gn_itau_2019-01-01_2022-01-01.csv')\n",
        "analyse_clean_data('raw_gn_vale_2019-01-01_2022-01-01.csv')\n",
        "\n",
        "# TWITTER\n",
        "analyse_clean_data('raw_tw_petrobras_2019-01-01_2022-01-01.csv')\n",
        "analyse_clean_data('raw_tw_Ambev_2019-01-01_2022-01-01.csv')\n",
        "analyse_clean_data('raw_tw_Bradesco_2019-01-01_2022-01-01.csv')\n",
        "analyse_clean_data('raw_tw_itau_2019-01-01_2022-01-01.csv')\n",
        "analyse_clean_data('raw_tw_valenobrasil_2019-01-01_2022-01-01.csv')"
      ],
      "metadata": {
        "id": "zzjrrevjJFfo"
      },
      "execution_count": null,
      "outputs": []
    },
    {
      "cell_type": "code",
      "source": [
        "df_sa.head(10)"
      ],
      "metadata": {
        "id": "rpl66KTbqiof"
      },
      "execution_count": null,
      "outputs": []
    },
    {
      "cell_type": "code",
      "source": [
        "df__test = pd.read_csv('raw_tw_petrobras_2021-01-01_2022-01-01.csv')"
      ],
      "metadata": {
        "id": "uLLNRur46EHO"
      },
      "execution_count": null,
      "outputs": []
    },
    {
      "cell_type": "code",
      "source": [
        "df__test.head(50)"
      ],
      "metadata": {
        "id": "0gLjmHoq6MT5"
      },
      "execution_count": null,
      "outputs": []
    },
    {
      "cell_type": "markdown",
      "source": [
        "## PLOTTING SENTIMENT GRAPH"
      ],
      "metadata": {
        "id": "G5zVATF4ryE2"
      }
    },
    {
      "cell_type": "code",
      "source": [
        "def count_values_in_column(data,feature):\n",
        "    total=data.loc[:,feature].value_counts(dropna=False)\n",
        "    percentage=round(data.loc[:,feature].value_counts(dropna=False,normalize=True)*100,2)\n",
        "    return pd.concat([total,percentage],axis=1,keys=['Total','Percentage'])\n",
        "\n",
        "count_values_in_column(df_sa,\"sentiment\")"
      ],
      "metadata": {
        "colab": {
          "base_uri": "https://localhost:8080/",
          "height": 143
        },
        "id": "ZHDcH60-r16z",
        "outputId": "bd53f804-eb1e-4d0c-aacc-fb5c4dcbd9a2"
      },
      "execution_count": null,
      "outputs": [
        {
          "output_type": "execute_result",
          "data": {
            "text/plain": [
              "          Total  Percentage\n",
              "positive    131       46.29\n",
              "negative     91       32.16\n",
              "neutral      61       21.55"
            ],
            "text/html": [
              "\n",
              "  <div id=\"df-5bbeb307-4b58-4771-ae0d-b49b2928ffbe\">\n",
              "    <div class=\"colab-df-container\">\n",
              "      <div>\n",
              "<style scoped>\n",
              "    .dataframe tbody tr th:only-of-type {\n",
              "        vertical-align: middle;\n",
              "    }\n",
              "\n",
              "    .dataframe tbody tr th {\n",
              "        vertical-align: top;\n",
              "    }\n",
              "\n",
              "    .dataframe thead th {\n",
              "        text-align: right;\n",
              "    }\n",
              "</style>\n",
              "<table border=\"1\" class=\"dataframe\">\n",
              "  <thead>\n",
              "    <tr style=\"text-align: right;\">\n",
              "      <th></th>\n",
              "      <th>Total</th>\n",
              "      <th>Percentage</th>\n",
              "    </tr>\n",
              "  </thead>\n",
              "  <tbody>\n",
              "    <tr>\n",
              "      <th>positive</th>\n",
              "      <td>131</td>\n",
              "      <td>46.29</td>\n",
              "    </tr>\n",
              "    <tr>\n",
              "      <th>negative</th>\n",
              "      <td>91</td>\n",
              "      <td>32.16</td>\n",
              "    </tr>\n",
              "    <tr>\n",
              "      <th>neutral</th>\n",
              "      <td>61</td>\n",
              "      <td>21.55</td>\n",
              "    </tr>\n",
              "  </tbody>\n",
              "</table>\n",
              "</div>\n",
              "      <button class=\"colab-df-convert\" onclick=\"convertToInteractive('df-5bbeb307-4b58-4771-ae0d-b49b2928ffbe')\"\n",
              "              title=\"Convert this dataframe to an interactive table.\"\n",
              "              style=\"display:none;\">\n",
              "        \n",
              "  <svg xmlns=\"http://www.w3.org/2000/svg\" height=\"24px\"viewBox=\"0 0 24 24\"\n",
              "       width=\"24px\">\n",
              "    <path d=\"M0 0h24v24H0V0z\" fill=\"none\"/>\n",
              "    <path d=\"M18.56 5.44l.94 2.06.94-2.06 2.06-.94-2.06-.94-.94-2.06-.94 2.06-2.06.94zm-11 1L8.5 8.5l.94-2.06 2.06-.94-2.06-.94L8.5 2.5l-.94 2.06-2.06.94zm10 10l.94 2.06.94-2.06 2.06-.94-2.06-.94-.94-2.06-.94 2.06-2.06.94z\"/><path d=\"M17.41 7.96l-1.37-1.37c-.4-.4-.92-.59-1.43-.59-.52 0-1.04.2-1.43.59L10.3 9.45l-7.72 7.72c-.78.78-.78 2.05 0 2.83L4 21.41c.39.39.9.59 1.41.59.51 0 1.02-.2 1.41-.59l7.78-7.78 2.81-2.81c.8-.78.8-2.07 0-2.86zM5.41 20L4 18.59l7.72-7.72 1.47 1.35L5.41 20z\"/>\n",
              "  </svg>\n",
              "      </button>\n",
              "      \n",
              "  <style>\n",
              "    .colab-df-container {\n",
              "      display:flex;\n",
              "      flex-wrap:wrap;\n",
              "      gap: 12px;\n",
              "    }\n",
              "\n",
              "    .colab-df-convert {\n",
              "      background-color: #E8F0FE;\n",
              "      border: none;\n",
              "      border-radius: 50%;\n",
              "      cursor: pointer;\n",
              "      display: none;\n",
              "      fill: #1967D2;\n",
              "      height: 32px;\n",
              "      padding: 0 0 0 0;\n",
              "      width: 32px;\n",
              "    }\n",
              "\n",
              "    .colab-df-convert:hover {\n",
              "      background-color: #E2EBFA;\n",
              "      box-shadow: 0px 1px 2px rgba(60, 64, 67, 0.3), 0px 1px 3px 1px rgba(60, 64, 67, 0.15);\n",
              "      fill: #174EA6;\n",
              "    }\n",
              "\n",
              "    [theme=dark] .colab-df-convert {\n",
              "      background-color: #3B4455;\n",
              "      fill: #D2E3FC;\n",
              "    }\n",
              "\n",
              "    [theme=dark] .colab-df-convert:hover {\n",
              "      background-color: #434B5C;\n",
              "      box-shadow: 0px 1px 3px 1px rgba(0, 0, 0, 0.15);\n",
              "      filter: drop-shadow(0px 1px 2px rgba(0, 0, 0, 0.3));\n",
              "      fill: #FFFFFF;\n",
              "    }\n",
              "  </style>\n",
              "\n",
              "      <script>\n",
              "        const buttonEl =\n",
              "          document.querySelector('#df-5bbeb307-4b58-4771-ae0d-b49b2928ffbe button.colab-df-convert');\n",
              "        buttonEl.style.display =\n",
              "          google.colab.kernel.accessAllowed ? 'block' : 'none';\n",
              "\n",
              "        async function convertToInteractive(key) {\n",
              "          const element = document.querySelector('#df-5bbeb307-4b58-4771-ae0d-b49b2928ffbe');\n",
              "          const dataTable =\n",
              "            await google.colab.kernel.invokeFunction('convertToInteractive',\n",
              "                                                     [key], {});\n",
              "          if (!dataTable) return;\n",
              "\n",
              "          const docLinkHtml = 'Like what you see? Visit the ' +\n",
              "            '<a target=\"_blank\" href=https://colab.research.google.com/notebooks/data_table.ipynb>data table notebook</a>'\n",
              "            + ' to learn more about interactive tables.';\n",
              "          element.innerHTML = '';\n",
              "          dataTable['output_type'] = 'display_data';\n",
              "          await google.colab.output.renderOutput(dataTable, element);\n",
              "          const docLink = document.createElement('div');\n",
              "          docLink.innerHTML = docLinkHtml;\n",
              "          element.appendChild(docLink);\n",
              "        }\n",
              "      </script>\n",
              "    </div>\n",
              "  </div>\n",
              "  "
            ]
          },
          "metadata": {},
          "execution_count": 84
        }
      ]
    },
    {
      "cell_type": "code",
      "source": [
        "import matplotlib.pyplot as plt\n",
        "pichart = count_values_in_column(df_sa,\"sentiment\")\n",
        "names= pichart.index\n",
        "size=pichart[\"Percentage\"]\n",
        "\n",
        "plt.pie(size, labels=names, colors=['green','red','skyblue'], autopct=\"%1.1f%%\", shadow=True)\n",
        "p=plt.gcf()\n",
        "plt.show()"
      ],
      "metadata": {
        "colab": {
          "base_uri": "https://localhost:8080/",
          "height": 248
        },
        "id": "T1PX-lYcr75I",
        "outputId": "f54a4ccb-518e-463e-b0e1-90601dd79561"
      },
      "execution_count": null,
      "outputs": [
        {
          "output_type": "display_data",
          "data": {
            "text/plain": [
              "<Figure size 432x288 with 1 Axes>"
            ],
            "image/png": "[encoded data removed]"
          },
          "metadata": {}
        }
      ]
    }
  ]
}